{
 "cells": [
  {
   "cell_type": "code",
   "execution_count": null,
   "metadata": {},
   "outputs": [],
   "source": [
    "import pandas as pd\n",
    "pd.set_option('max_colwidth', 800)\n",
    "\n",
    "from glob import glob\n",
    "\n",
    "import cv2\n",
    "\n",
    "\n"
   ]
  },
  {
   "cell_type": "code",
   "execution_count": null,
   "metadata": {},
   "outputs": [],
   "source": [
    "pf_ids = glob('./data/raw/*/*.jpg')\n",
    "pf_ids = list(map(lambda x:x.split('/')[-1][:-4],pf_ids))\n",
    "pf_ids"
   ]
  },
  {
   "cell_type": "code",
   "execution_count": null,
   "metadata": {},
   "outputs": [],
   "source": [
    "def shapes(x):\n",
    "    im_shape = cv2.imread(x).shape\n",
    "    return im_shape[0], im_shape[1], im_shape[2] \n"
   ]
  },
  {
   "cell_type": "code",
   "execution_count": null,
   "metadata": {},
   "outputs": [],
   "source": [
    "data_list =  glob('./data/raw/*/*/*.jpg')\n",
    "df = pd.DataFrame(data_list,columns = ['path'])\n",
    "#df['is_jpg'] = df.apply(lambda row: row.path.split(\".\")[-1]=='jpg',axis=1)\n",
    "#add subfolder ids:\n",
    "df['sub_folder_id'] = df.apply(lambda row: row.path.split('/')[4] ,axis=1)\n",
    "df['w'], df['h'], df['d'] = zip(*df['path'].map(shapes))\n",
    "    "
   ]
  },
  {
   "cell_type": "code",
   "execution_count": null,
   "metadata": {},
   "outputs": [],
   "source": [
    "df"
   ]
  },
  {
   "cell_type": "code",
   "execution_count": null,
   "metadata": {},
   "outputs": [],
   "source": [
    "min(set(df.w)), min(set(df.h)), min(set(df.d))"
   ]
  },
  {
   "cell_type": "code",
   "execution_count": null,
   "metadata": {},
   "outputs": [],
   "source": [
    "df['id'] = df.groupby('sub_folder_id').ngroup()"
   ]
  },
  {
   "cell_type": "code",
   "execution_count": null,
   "metadata": {},
   "outputs": [],
   "source": [
    "set(df['id'])"
   ]
  },
  {
   "cell_type": "code",
   "execution_count": null,
   "metadata": {},
   "outputs": [],
   "source": [
    "df"
   ]
  },
  {
   "cell_type": "code",
   "execution_count": null,
   "metadata": {},
   "outputs": [],
   "source": [
    "#Check if subfolder ids are consistant with pf_ids:\n",
    "print(f\"Subfolders ids are consistant with pf_ids: {set(df.sub_folder_id) == set(pf_ids)}\")"
   ]
  },
  {
   "cell_type": "code",
   "execution_count": null,
   "metadata": {},
   "outputs": [],
   "source": [
    "df.to_csv('./data/input.csv', columns=['id', 'sub_folder_id', 'path'], header= ['id','name','path'] ,index=False)"
   ]
  },
  {
   "cell_type": "code",
   "execution_count": null,
   "metadata": {},
   "outputs": [],
   "source": []
  }
 ],
 "metadata": {
  "kernelspec": {
   "display_name": "Python 3.9.12 ('kaggle')",
   "language": "python",
   "name": "python3"
  },
  "language_info": {
   "codemirror_mode": {
    "name": "ipython",
    "version": 3
   },
   "file_extension": ".py",
   "mimetype": "text/x-python",
   "name": "python",
   "nbconvert_exporter": "python",
   "pygments_lexer": "ipython3",
   "version": "3.9.12"
  },
  "orig_nbformat": 4,
  "vscode": {
   "interpreter": {
    "hash": "96b6d087958251ebea0b7cf39c5f1734093821353a9780ad2a63e24e830d89a1"
   }
  }
 },
 "nbformat": 4,
 "nbformat_minor": 2
}
